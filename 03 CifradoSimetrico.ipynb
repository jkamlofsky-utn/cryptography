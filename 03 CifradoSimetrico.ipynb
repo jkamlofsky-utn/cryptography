{
 "cells": [
  {
   "cell_type": "markdown",
   "id": "4d812376",
   "metadata": {},
   "source": [
    "# Cifrado Simétrico: Un ransomware con Des\n",
    "## 1. Presentación\n",
    "<p>DES es un cifrador simetico creado por IBM en 1975. Fue quebrado en 1998 cuando el Electronic Frontier Foundation (EFF) demostró que era posible descifrar un mensaje encriptado con DES en menos de 24 horas. Con hardware moderno, como unidades de procesamiento gráfico (GPU) o sistemas especializados de alto rendimiento, la desencriptación de DES se puede realizar en menos de un segundo.</p>\n",
    "<p>En este notebook, emularemos el trabajo de un ataque de ransommware: encriptaremos todos los archivos que se encuentren en la carpeta \"muestras\", verificaremos que se encuentran enciptados, y luego los desencriptaremos con la clave adecuada.</p>\n"
   ]
  },
  {
   "cell_type": "markdown",
   "id": "0a2736c7",
   "metadata": {},
   "source": [
    "## 2. Inicializacion"
   ]
  },
  {
   "cell_type": "code",
   "execution_count": 12,
   "id": "48f85950",
   "metadata": {},
   "outputs": [
    {
     "data": {
      "text/plain": [
       "'Se requiere su instalación para asegurar su funcionamiento. Para ello, descomentar la línea siguiente solo la primera vez, hasta que se instale. Luego, volver a comentarlo, para no reinstalar en cada prueba.'"
      ]
     },
     "execution_count": 12,
     "metadata": {},
     "output_type": "execute_result"
    }
   ],
   "source": [
    "# Instalación de pydes\n",
    "'''Se requiere su instalación para asegurar su funcionamiento. Para ello, descomentar la línea siguiente solo la primera vez, hasta que se instale. Luego, volver a comentarlo, para no reinstalar en cada prueba.'''\n",
    "#%pip install pydes"
   ]
  },
  {
   "cell_type": "code",
   "execution_count": 13,
   "id": "810906d6",
   "metadata": {},
   "outputs": [],
   "source": [
    "# Librerias\n",
    "import os\n",
    "import sys\n",
    "from pyDes import des"
   ]
  },
  {
   "cell_type": "code",
   "execution_count": 23,
   "id": "22bc7d88",
   "metadata": {},
   "outputs": [],
   "source": [
    "# Funciones:\n",
    "\n",
    "# Encriptar archivo:\n",
    "def encriptarArchivo(user_pass, archivo):\n",
    "    '''\n",
    "    @funcionamiento: Encripta un archivo en el mismo directorio.\n",
    "    @argumentos: la clave de encriptacion, el nombre del fichero\n",
    "    @return: devuelve True\n",
    "    '''\n",
    "    # abro el archivo lo copio en memoria y lo cierro\n",
    "    f = open(archivo, 'rb+')\n",
    "    d = f.read()\n",
    "    f.close()\n",
    "    # convierto la clave string en objeto clave\n",
    "    k = des(user_pass)\n",
    "    # encripta el archivo-objeto en memoria con el objeto clave y lo graba con el mismo nombre\n",
    "    d = k.encrypt(d, ' ')\n",
    "    f = open(archivo, 'wb+')\n",
    "    f.write(d)\n",
    "    f.close()\n",
    "    return True\n",
    "\n",
    "# Desencriptar archivo:\n",
    "def desencriptarArchivo(user_pass, archivo):\n",
    "    '''\n",
    "    @funcionamiento: Desencripta un archivo en el mismo directorio.\n",
    "    @argumentos: la clave de encriptacion, el nombre del fichero\n",
    "    @return: devuelve True\n",
    "    '''\n",
    "    # abro el archivo lo copio en memoria y lo cierro\n",
    "    f = open(archivo, 'rb+')\n",
    "    d = f.read()\n",
    "    f.close()\n",
    "    # convierto la clave string en objeto clave\n",
    "    k = des(user_pass)\n",
    "    # desencripto el archivo-objeto en memoria con el objeto clave y lo grabo con el mismo nombre\n",
    "    d = k.decrypt(d, ' ')\n",
    "    f = open(archivo, 'wb+')\n",
    "    f.write(d)\n",
    "    f.close()\n",
    "    return True"
   ]
  },
  {
   "cell_type": "markdown",
   "id": "871b33e8",
   "metadata": {},
   "source": [
    "## 3. Programa principal:\n",
    "Se encripta a todos los archivos que se encuentran en la carpeta \"muestras\" con la clave \"mi_clave\". No se cambia ni el nombre ni la extension de los archivos, solo se los encripta."
   ]
  },
  {
   "cell_type": "code",
   "execution_count": 24,
   "id": "d252db19",
   "metadata": {},
   "outputs": [],
   "source": [
    "# Clave simétrica:\n",
    "clave=\"mi_clave\"\n",
    "\n",
    "# Archivos a encriptar/desencriptar\n",
    "carpeta=\"muestras\"\n",
    "pathCarpeta=os.path.join(os.getcwd(),carpeta)\n",
    "archivos=os.listdir(pathCarpeta)"
   ]
  },
  {
   "cell_type": "code",
   "execution_count": 28,
   "id": "47e6710d",
   "metadata": {},
   "outputs": [],
   "source": [
    "# Encriptar:\n",
    "print(\"Encriptando. Por favor espere...\")\n",
    "for i in range (len(archivos)):\n",
    "    archivo=os.path.join(carpeta,archivos[i])\n",
    "    encriptarArchivo(clave,archivo)"
   ]
  },
  {
   "cell_type": "markdown",
   "id": "36a853cc",
   "metadata": {},
   "source": [
    "Luego que haya terminado el proceso de encripción, Revisar la carpeta \"muestras\", abrir cada uno de los archivos, y verificar que no se pueda ver ningún contenido. Esto es: la encripción, resultó!"
   ]
  },
  {
   "cell_type": "code",
   "execution_count": 29,
   "id": "e1ef586c",
   "metadata": {},
   "outputs": [
    {
     "name": "stdout",
     "output_type": "stream",
     "text": [
      "Desencripción: Por favor espere...\n"
     ]
    }
   ],
   "source": [
    "# Desencriptar:\n",
    "print(\"Desencripando: Por favor espere...\")\n",
    "for i in range (len(archivos)):\n",
    "    archivo=os.path.join(carpeta,archivos[i])\n",
    "    desencriptarArchivo(clave,archivo)"
   ]
  },
  {
   "cell_type": "markdown",
   "id": "a632f7f7",
   "metadata": {},
   "source": [
    "Luego que haya terminado el proceso de desencripción, Revisar la carpeta \"muestras\", abrir cada uno de los archivos, y verificar que SI se pueda ver ningún contenido. Esto es: funcionó la desencripción!"
   ]
  }
 ],
 "metadata": {
  "kernelspec": {
   "display_name": "Python 3 (ipykernel)",
   "language": "python",
   "name": "python3"
  },
  "language_info": {
   "codemirror_mode": {
    "name": "ipython",
    "version": 3
   },
   "file_extension": ".py",
   "mimetype": "text/x-python",
   "name": "python",
   "nbconvert_exporter": "python",
   "pygments_lexer": "ipython3",
   "version": "3.11.3"
  }
 },
 "nbformat": 4,
 "nbformat_minor": 5
}
