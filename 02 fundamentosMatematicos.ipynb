{
 "cells": [
  {
   "cell_type": "markdown",
   "id": "4dd03c34",
   "metadata": {},
   "source": [
    "# Fundamentos Matemáticos de la Criptografía\n",
    "En esta Notebook se muestran ejemplos de las operaciones elementales usadas en algunos algoritmos criptográficos"
   ]
  },
  {
   "cell_type": "markdown",
   "id": "770b2d29",
   "metadata": {},
   "source": [
    "## 1. Aritmética Modular\n",
    "Se presentan las operaciones elementales usadas en el anillo Zn"
   ]
  },
  {
   "cell_type": "code",
   "execution_count": 1,
   "id": "90c706d9",
   "metadata": {},
   "outputs": [],
   "source": [
    "# Funciones:\n",
    "# ----------\n",
    "# Calcular Potencia modular:\n",
    "def calcularPotencia(base,exponente,modulo):\n",
    "    res=(base**exponente)%modulo\n",
    "    return int(res)\n",
    "# Factorizar un numero pseudo-primo\n",
    "def factorizar(numero):\n",
    "    numero_raiz=int(numero**(0.5))\n",
    "    res=str(numero)+\" es primo\"\n",
    "    for i in range(1,numero_raiz):\n",
    "        entero=int(numero/i)\n",
    "        decimal=float(float(numero)/float(i))\n",
    "        if(entero==decimal):\n",
    "            res=str(numero)+\"=\"+str(entero)+\"*\"+str(i)\n",
    "    return res\n",
    "# Calcular inverso modular\n",
    "def inverso(numero,modulo):\n",
    "    res=0\n",
    "    for i in range(numero):\n",
    "        entero=int((i*modulo+1)/numero)\n",
    "        decimal=float(float(i*modulo+1)/float(numero))\n",
    "        if(entero==decimal):\n",
    "            res=entero\n",
    "    return res\n",
    "# Listar Primos:\n",
    "def listarPrimos(limite):\n",
    "    lista=[]\n",
    "    res=0\n",
    "    for i in range(2,limite):\n",
    "        for j in range(2,i):\n",
    "            if((i/j)==float(int(i/j))):\n",
    "                res=str(i)+\" no es primo\"\n",
    "                break\n",
    "        if(res!=str(i)+\" no es primo\"):\n",
    "            lista.append(i)\n",
    "    return lista"
   ]
  },
  {
   "cell_type": "code",
   "execution_count": 2,
   "id": "824477da",
   "metadata": {},
   "outputs": [],
   "source": [
    "# Inicialización\n",
    "a=23\n",
    "b=56\n",
    "modulo=37\n",
    "num=4819"
   ]
  },
  {
   "cell_type": "markdown",
   "id": "7bc18b57",
   "metadata": {},
   "source": [
    "### Potencia Modular"
   ]
  },
  {
   "cell_type": "code",
   "execution_count": 3,
   "id": "adec172e",
   "metadata": {},
   "outputs": [
    {
     "name": "stdout",
     "output_type": "stream",
     "text": [
      "23 exp 56 (mod37) = 26\n"
     ]
    }
   ],
   "source": [
    "pot=calcularPotencia(a,b,modulo)\n",
    "print(str(a)+\" exp \"+str(b)+\" (mod\"+str(modulo)+\") = \"+str(pot))"
   ]
  },
  {
   "cell_type": "markdown",
   "id": "2ea0d53e",
   "metadata": {},
   "source": [
    "### Inverso modular\n",
    "Notar que si \"i\" es el inverso modular de \"a\", entonces: a*i(mod n)=1"
   ]
  },
  {
   "cell_type": "code",
   "execution_count": 4,
   "id": "58b3cd98",
   "metadata": {},
   "outputs": [
    {
     "name": "stdout",
     "output_type": "stream",
     "text": [
      "23 (exp) (-1) (mod 37) = 29\n",
      "y además: 29 * 23 (mod 37) = 1\n"
     ]
    }
   ],
   "source": [
    "i=inverso(a,modulo)\n",
    "print(str(a)+\" (exp) (-1) (mod \"+str(modulo)+\") = \"+str(i))\n",
    "print(\"y además: \"+str(i)+\" * \"+str(a)+\" (mod \"+str(modulo)+\") = \"+str(a*i%modulo))"
   ]
  },
  {
   "cell_type": "markdown",
   "id": "06966a3e",
   "metadata": {},
   "source": [
    "### Factorizar"
   ]
  },
  {
   "cell_type": "code",
   "execution_count": 5,
   "id": "6ee7f218",
   "metadata": {},
   "outputs": [
    {
     "name": "stdout",
     "output_type": "stream",
     "text": [
      "4819=79*61\n"
     ]
    }
   ],
   "source": [
    "res=factorizar(num)\n",
    "print(res)"
   ]
  },
  {
   "cell_type": "markdown",
   "id": "b0346d77",
   "metadata": {},
   "source": [
    "### Listar Primos\n",
    "Dado un número, esta función presenta todos los números primos menores a dicho número"
   ]
  },
  {
   "cell_type": "code",
   "execution_count": 6,
   "id": "6f2ee91c",
   "metadata": {},
   "outputs": [
    {
     "name": "stdout",
     "output_type": "stream",
     "text": [
      "Los numeros primos menores a 37 son: [2, 3, 5, 7, 11, 13, 17, 19, 23, 29, 31]\n"
     ]
    }
   ],
   "source": [
    "res=listarPrimos(modulo)\n",
    "print(\"Los numeros primos menores a \"+str(modulo)+\" son: \"+str(res))"
   ]
  },
  {
   "cell_type": "markdown",
   "id": "416447bb",
   "metadata": {},
   "source": [
    "## 2. RSA:\n",
    "Usaremos las funciones anteriores para implementar (en modo demo) el algoritmo RSA. El mismo posee 3 etapas: generación de claves, encripción y desencripción."
   ]
  },
  {
   "cell_type": "code",
   "execution_count": 7,
   "id": "9745bd32",
   "metadata": {},
   "outputs": [],
   "source": [
    "# Librerias:\n",
    "import random as random\n",
    "# Hardcodeo:\n",
    "umbral=80\n",
    "textoPlano='CASA'"
   ]
  },
  {
   "cell_type": "markdown",
   "id": "ec59cfc3",
   "metadata": {},
   "source": [
    "### Generacion de claves:"
   ]
  },
  {
   "cell_type": "code",
   "execution_count": 8,
   "id": "0b824865",
   "metadata": {},
   "outputs": [
    {
     "name": "stdout",
     "output_type": "stream",
     "text": [
      "p= 71\n",
      "q= 71\n",
      "phi= 2520\n",
      "GENERACION DE CLAVES:\n",
      "K_pub=(53, 2627) - K_priv=(1997, 2627)\n"
     ]
    }
   ],
   "source": [
    "# Alice elige primos grandes p y q\n",
    "primos=listarPrimos(umbral)\n",
    "p=primos[random.randrange(int(len(primos)/2),len(primos))]\n",
    "q=primos[random.randrange(int(len(primos)/2),len(primos))]\n",
    "print('p=',p)\n",
    "print('q=',q)\n",
    "while(p==q):\n",
    "    q=primos[random.randrange(int(len(primos)/2),len(primos))]\n",
    "n=p*q\n",
    "fi_n=(p-1)*(q-1)\n",
    "print('phi=',fi_n)\n",
    "e=primos[random.randrange(int(len(primos)/2),len(primos))]\n",
    "while(e==p or e==q):\n",
    "    e=primos[random.randrange(int(len(primos)/2),len(primos))]\n",
    "d=inverso(e,fi_n)\n",
    "K_pub=(e,n)\n",
    "K_priv=(d,n)\n",
    "print (\"GENERACION DE CLAVES:\")\n",
    "print (\"K_pub=\"+str(K_pub)+\" - K_priv=\"+str(K_priv))"
   ]
  },
  {
   "cell_type": "markdown",
   "id": "6a1b48e1",
   "metadata": {},
   "source": [
    "### Encripcion del texto plano"
   ]
  },
  {
   "cell_type": "code",
   "execution_count": 9,
   "id": "28bb97d6",
   "metadata": {},
   "outputs": [
    {
     "name": "stdout",
     "output_type": "stream",
     "text": [
      "mensaje: CASA\n",
      "codigo mensaje: [67, 65, 83, 65]\n",
      "codigo cifrado: [1205, 1188, 2216, 1188]\n",
      "texto cifrado: 5$($\n"
     ]
    }
   ],
   "source": [
    "# Cifrado con clave publica:\n",
    "print (\"mensaje: \"+str(textoPlano))\n",
    "codigoPlano=[]\n",
    "for i in range(len(textoPlano)):\n",
    "    num=ord(str(textoPlano[i]))\n",
    "    codigoPlano.append(num)\n",
    "print (\"codigo mensaje: \"+str(codigoPlano))\n",
    "codigoCifrado=[]\n",
    "for i in range(len(codigoPlano)):\n",
    "    cifra=int(calcularPotencia(codigoPlano[i],e,n))\n",
    "    codigoCifrado.append(cifra)\n",
    "print (\"codigo cifrado: \"+str(codigoCifrado))\n",
    "textoCifrado=''\n",
    "for i in range(len(codigoCifrado)):\n",
    "    textoCifrado=str(textoCifrado)+chr(codigoCifrado[i]%128)\n",
    "print (\"texto cifrado: \"+str(textoCifrado))"
   ]
  },
  {
   "cell_type": "markdown",
   "id": "67331eee",
   "metadata": {},
   "source": [
    "### Desencripción:"
   ]
  },
  {
   "cell_type": "code",
   "execution_count": 10,
   "id": "1e52725e",
   "metadata": {},
   "outputs": [
    {
     "name": "stdout",
     "output_type": "stream",
     "text": [
      "codigo cifrado: [1205, 1188, 2216, 1188]\n",
      "codigo Descifrado:  [67, 65, 83, 65]\n",
      "texto Descifrado: CASA\n"
     ]
    }
   ],
   "source": [
    "# Descifrado con clave privada:\n",
    "print (\"codigo cifrado: \"+str(codigoCifrado))\n",
    "codigoDescifrado=[]\n",
    "for i in range(len(codigoCifrado)):\n",
    "    descifrado=int(calcularPotencia(codigoCifrado[i],d,n))\n",
    "    codigoDescifrado.append(descifrado)\n",
    "print (\"codigo Descifrado: \",str(codigoDescifrado))\n",
    "textoDescifrado=''\n",
    "for i in range(len(codigoDescifrado)):\n",
    "    textoDescifrado=str(textoDescifrado)+chr(codigoDescifrado[i]%128)\n",
    "print (\"texto Descifrado: \"+str(textoDescifrado))"
   ]
  },
  {
   "cell_type": "markdown",
   "id": "b65dfb49",
   "metadata": {},
   "source": [
    "### ¿Puede hackearse RSA?\n",
    "Supongamos que capturamos un mensaje cifrado con RSA y accedemos a la clave pública. RSA se hackea factorizando el valor del módulo y del coeficiente de encripción \"e\" presentes en la clave pública. Con ello, puede recuperarse la clave privada, y con ello, se desencripta el mensaje."
   ]
  },
  {
   "cell_type": "code",
   "execution_count": 11,
   "id": "3615f137",
   "metadata": {},
   "outputs": [
    {
     "name": "stdout",
     "output_type": "stream",
     "text": [
      "La clave privada reconstruida es: K_priv=(1997,2627)\n"
     ]
    }
   ],
   "source": [
    "# recuperación de 'd' (clave privada)\n",
    "p_=int((factorizar(n).split(\"=\")[1]).split(\"*\")[0])\n",
    "q_=int((factorizar(n).split(\"=\")[1]).split(\"*\")[1])\n",
    "fi__n=(p_-1)*(q_-1)\n",
    "d_=inverso(e,fi__n)\n",
    "print(\"La clave privada reconstruida es: K_priv=(\"+str(d_)+\",\"+str(n)+\")\")"
   ]
  },
  {
   "cell_type": "code",
   "execution_count": 12,
   "id": "dac4cd0b",
   "metadata": {},
   "outputs": [
    {
     "name": "stdout",
     "output_type": "stream",
     "text": [
      "el codigo cifrado capturado es:  [1205, 1188, 2216, 1188]\n",
      "texto Descifrado: CASA\n",
      "--Mensaje Hackeado--\n"
     ]
    }
   ],
   "source": [
    "# Descifrado del mensaje:\n",
    "msjCifrado=codigoCifrado\n",
    "print(\"el codigo cifrado capturado es: \",msjCifrado)\n",
    "codigoDescifrado=[]\n",
    "for i in range(len(codigoCifrado)):\n",
    "    descifrado=int(calcularPotencia(codigoCifrado[i],d_,n))\n",
    "    codigoDescifrado.append(descifrado)\n",
    "textoDescifrado=''\n",
    "for i in range(len(codigoDescifrado)):\n",
    "    textoDescifrado=str(textoDescifrado)+chr(codigoDescifrado[i]%128)\n",
    "print (\"texto Descifrado: \"+str(textoDescifrado))\n",
    "print(\"--Mensaje Hackeado--\")"
   ]
  },
  {
   "cell_type": "markdown",
   "id": "5cecd67d",
   "metadata": {},
   "source": [
    "## 3. Vernam\n",
    "Consiste en un algoritmo simetrico que utiliza la funcion booleana \"XOR\" u \"O Exclusiva\" bit a bit ya que la misma es una función simétrica y equilibrada (cumpliendo con uno de los postulados de Golomb). Recordando: la funcion XOR devuelve un 1 si los bits son distintos y un 0 si son iguales."
   ]
  },
  {
   "cell_type": "code",
   "execution_count": 13,
   "id": "42630643",
   "metadata": {},
   "outputs": [],
   "source": [
    "# Funcion XOR entre enteros\n",
    "def xor_entre_enteros(num1, num2):\n",
    "    resultado_xor = num1 ^ num2\n",
    "    return resultado_xor\n",
    "# Conversion entero - binario con Longitud fija:\n",
    "def entero_a_binario(numero):\n",
    "    binario = bin(numero)[2:]\n",
    "    longitud_actual = len(binario)\n",
    "    if longitud_actual < 8:\n",
    "        ceros_faltantes = 8 - longitud_actual\n",
    "        binario = '0' * ceros_faltantes + binario\n",
    "    return binario"
   ]
  },
  {
   "cell_type": "code",
   "execution_count": 14,
   "id": "164dfd96",
   "metadata": {},
   "outputs": [
    {
     "name": "stdout",
     "output_type": "stream",
     "text": [
      "mensaje:  [67, 65, 83, 65]\n",
      "mensaje Binario:          ['01000011', '01000001', '01010011', '01000001']\n",
      "password Binario:         ['01010000', '01000001', '01010011', '01010111']\n",
      "mensaje Cifrado Binario:  ['00010011', '00000000', '00000000', '00010110']\n"
     ]
    }
   ],
   "source": [
    "# Encripción Simétrica\n",
    "msj=[67, 65, 83, 65]\n",
    "print(\"mensaje: \",msj)\n",
    "msjBinario=[]\n",
    "for i in range(len(msj)):\n",
    "    res=entero_a_binario(msj[i])\n",
    "    msjBinario.append(res)\n",
    "print(\"mensaje Binario:         \",msjBinario)\n",
    "pasw=[80, 65, 83, 87]\n",
    "pwdBinario=[]\n",
    "for i in range(len(msj)):\n",
    "    res=entero_a_binario(pasw[i])\n",
    "    pwdBinario.append(res)\n",
    "print(\"password Binario:        \",pwdBinario)\n",
    "msjCifrado=[]\n",
    "for i in range(len(msj)):\n",
    "    res=xor_entre_enteros(msj[i],pasw[i])\n",
    "    msjCifrado.append(res)\n",
    "msjCifradoBinario=[]\n",
    "for i in range(len(msj)):\n",
    "    res=entero_a_binario(msjCifrado[i])\n",
    "    msjCifradoBinario.append(res)\n",
    "print(\"mensaje Cifrado Binario: \",msjCifradoBinario)\n",
    "\n"
   ]
  },
  {
   "cell_type": "code",
   "execution_count": 15,
   "id": "a506ac8a",
   "metadata": {},
   "outputs": [
    {
     "name": "stdout",
     "output_type": "stream",
     "text": [
      "mensaje descifrado:  [67, 65, 83, 65]\n"
     ]
    }
   ],
   "source": [
    "# Verificacion: Desencripción\n",
    "msjPlano=[]\n",
    "for i in range(len(msj)):\n",
    "    res=xor_entre_enteros(msjCifrado[i],pasw[i])\n",
    "    msjPlano.append(res)\n",
    "print(\"mensaje descifrado: \",msjPlano)"
   ]
  }
 ],
 "metadata": {
  "kernelspec": {
   "display_name": "Python 3 (ipykernel)",
   "language": "python",
   "name": "python3"
  },
  "language_info": {
   "codemirror_mode": {
    "name": "ipython",
    "version": 3
   },
   "file_extension": ".py",
   "mimetype": "text/x-python",
   "name": "python",
   "nbconvert_exporter": "python",
   "pygments_lexer": "ipython3",
   "version": "3.11.3"
  }
 },
 "nbformat": 4,
 "nbformat_minor": 5
}
